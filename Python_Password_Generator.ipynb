{
  "nbformat": 4,
  "nbformat_minor": 0,
  "metadata": {
    "colab": {
      "provenance": []
    },
    "kernelspec": {
      "name": "python3",
      "display_name": "Python 3"
    },
    "language_info": {
      "name": "python"
    }
  },
  "cells": [
    {
      "cell_type": "code",
      "execution_count": 1,
      "metadata": {
        "id": "AgWpFc63oBHc"
      },
      "outputs": [],
      "source": [
        "import numpy as np"
      ]
    },
    {
      "cell_type": "code",
      "source": [
        "a=np.arange(1,10)\n",
        "a"
      ],
      "metadata": {
        "colab": {
          "base_uri": "https://localhost:8080/"
        },
        "id": "4AR26jJtotL-",
        "outputId": "6093500f-024b-4f6d-ac4b-856646db283d"
      },
      "execution_count": 3,
      "outputs": [
        {
          "output_type": "execute_result",
          "data": {
            "text/plain": [
              "array([1, 2, 3, 4, 5, 6, 7, 8, 9])"
            ]
          },
          "metadata": {},
          "execution_count": 3
        }
      ]
    },
    {
      "cell_type": "code",
      "source": [
        "b=np.arange(1,10,2)\n",
        "b"
      ],
      "metadata": {
        "colab": {
          "base_uri": "https://localhost:8080/"
        },
        "id": "w-7lH5-VoyPe",
        "outputId": "cdb42362-6799-48fa-c6ce-7068599bae4e"
      },
      "execution_count": 5,
      "outputs": [
        {
          "output_type": "execute_result",
          "data": {
            "text/plain": [
              "array([1, 3, 5, 7, 9])"
            ]
          },
          "metadata": {},
          "execution_count": 5
        }
      ]
    },
    {
      "cell_type": "code",
      "source": [
        "c=np.random.randint(1,10,10)\n",
        "c"
      ],
      "metadata": {
        "colab": {
          "base_uri": "https://localhost:8080/"
        },
        "id": "64CVWePMo5Q1",
        "outputId": "a0308125-5663-4a6b-e667-c2ae8ab3fac6"
      },
      "execution_count": 12,
      "outputs": [
        {
          "output_type": "execute_result",
          "data": {
            "text/plain": [
              "array([6, 3, 9, 1, 1, 9, 3, 1, 6, 2])"
            ]
          },
          "metadata": {},
          "execution_count": 12
        }
      ]
    },
    {
      "cell_type": "code",
      "source": [
        "###PASSWORD GENERATOR###\n",
        "import random\n",
        "Upper_case=\"ABCDEFGHIJKLMNOPQRSTUVWXYZ\"\n",
        "Lower_case=\"abcdefghijklmnopqrstuvwxyz\"\n",
        "Num=\"1234567890\"\n",
        "symbols=\"!@#$%^&\"\n",
        "\n",
        "Use_for=Upper_case+Lower_case+Num+symbols\n",
        "Password_length=6\n",
        "password=\"\".join(random.sample(Use_for,Password_length))\n",
        "print(\"Your Password is \"+ str(password))"
      ],
      "metadata": {
        "colab": {
          "base_uri": "https://localhost:8080/"
        },
        "id": "TphsLSy3pPhZ",
        "outputId": "0943ae7a-a0bd-4a2e-b534-1a4ced93cfc8"
      },
      "execution_count": 27,
      "outputs": [
        {
          "output_type": "stream",
          "name": "stdout",
          "text": [
            "Your Password is MJ@pRs\n"
          ]
        }
      ]
    },
    {
      "cell_type": "code",
      "source": [],
      "metadata": {
        "id": "e7zffSsBqSY1"
      },
      "execution_count": null,
      "outputs": []
    }
  ]
}